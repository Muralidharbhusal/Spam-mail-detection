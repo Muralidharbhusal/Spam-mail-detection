{
 "cells": [
  {
   "cell_type": "code",
   "execution_count": 1,
   "id": "756a8c6c",
   "metadata": {},
   "outputs": [],
   "source": [
    "# Import necessary library\n",
    "import pandas as pd\n",
    "import numpy as np\n",
    "import matplotlib.pyplot as plt"
   ]
  },
  {
   "cell_type": "code",
   "execution_count": 2,
   "id": "599b8ff8",
   "metadata": {},
   "outputs": [],
   "source": [
    "# Import dataset\n",
    "spam_data = pd.read_csv('data/spam_ham_dataset.csv')"
   ]
  },
  {
   "cell_type": "code",
   "execution_count": 3,
   "id": "bb81e10b",
   "metadata": {},
   "outputs": [
    {
     "data": {
      "text/html": [
       "<div>\n",
       "<style scoped>\n",
       "    .dataframe tbody tr th:only-of-type {\n",
       "        vertical-align: middle;\n",
       "    }\n",
       "\n",
       "    .dataframe tbody tr th {\n",
       "        vertical-align: top;\n",
       "    }\n",
       "\n",
       "    .dataframe thead th {\n",
       "        text-align: right;\n",
       "    }\n",
       "</style>\n",
       "<table border=\"1\" class=\"dataframe\">\n",
       "  <thead>\n",
       "    <tr style=\"text-align: right;\">\n",
       "      <th></th>\n",
       "      <th>Unnamed: 0</th>\n",
       "      <th>label</th>\n",
       "      <th>text</th>\n",
       "      <th>label_num</th>\n",
       "    </tr>\n",
       "  </thead>\n",
       "  <tbody>\n",
       "    <tr>\n",
       "      <th>0</th>\n",
       "      <td>605</td>\n",
       "      <td>ham</td>\n",
       "      <td>Subject: enron methanol ; meter # : 988291\\r\\n...</td>\n",
       "      <td>0</td>\n",
       "    </tr>\n",
       "    <tr>\n",
       "      <th>1</th>\n",
       "      <td>2349</td>\n",
       "      <td>ham</td>\n",
       "      <td>Subject: hpl nom for january 9 , 2001\\r\\n( see...</td>\n",
       "      <td>0</td>\n",
       "    </tr>\n",
       "    <tr>\n",
       "      <th>2</th>\n",
       "      <td>3624</td>\n",
       "      <td>ham</td>\n",
       "      <td>Subject: neon retreat\\r\\nho ho ho , we ' re ar...</td>\n",
       "      <td>0</td>\n",
       "    </tr>\n",
       "    <tr>\n",
       "      <th>3</th>\n",
       "      <td>4685</td>\n",
       "      <td>spam</td>\n",
       "      <td>Subject: photoshop , windows , office . cheap ...</td>\n",
       "      <td>1</td>\n",
       "    </tr>\n",
       "    <tr>\n",
       "      <th>4</th>\n",
       "      <td>2030</td>\n",
       "      <td>ham</td>\n",
       "      <td>Subject: re : indian springs\\r\\nthis deal is t...</td>\n",
       "      <td>0</td>\n",
       "    </tr>\n",
       "  </tbody>\n",
       "</table>\n",
       "</div>"
      ],
      "text/plain": [
       "   Unnamed: 0 label                                               text  \\\n",
       "0         605   ham  Subject: enron methanol ; meter # : 988291\\r\\n...   \n",
       "1        2349   ham  Subject: hpl nom for january 9 , 2001\\r\\n( see...   \n",
       "2        3624   ham  Subject: neon retreat\\r\\nho ho ho , we ' re ar...   \n",
       "3        4685  spam  Subject: photoshop , windows , office . cheap ...   \n",
       "4        2030   ham  Subject: re : indian springs\\r\\nthis deal is t...   \n",
       "\n",
       "   label_num  \n",
       "0          0  \n",
       "1          0  \n",
       "2          0  \n",
       "3          1  \n",
       "4          0  "
      ]
     },
     "execution_count": 3,
     "metadata": {},
     "output_type": "execute_result"
    }
   ],
   "source": [
    "spam_data.head()"
   ]
  },
  {
   "cell_type": "code",
   "execution_count": 4,
   "id": "66beb9fa",
   "metadata": {},
   "outputs": [],
   "source": [
    "# Steps \n",
    "# 1. Data Cleaning\n",
    "# 2. EDA\n",
    "# 3. Text Pre-processing\n",
    "# 4. Model Building\n",
    "# 5. Evaluating\n",
    "# 6. Improving model\n"
   ]
  },
  {
   "cell_type": "markdown",
   "id": "a30db7ee",
   "metadata": {},
   "source": [
    "## 1. Data Cleaning "
   ]
  },
  {
   "cell_type": "code",
   "execution_count": 5,
   "id": "aaa6cd56",
   "metadata": {},
   "outputs": [
    {
     "data": {
      "text/html": [
       "<div>\n",
       "<style scoped>\n",
       "    .dataframe tbody tr th:only-of-type {\n",
       "        vertical-align: middle;\n",
       "    }\n",
       "\n",
       "    .dataframe tbody tr th {\n",
       "        vertical-align: top;\n",
       "    }\n",
       "\n",
       "    .dataframe thead th {\n",
       "        text-align: right;\n",
       "    }\n",
       "</style>\n",
       "<table border=\"1\" class=\"dataframe\">\n",
       "  <thead>\n",
       "    <tr style=\"text-align: right;\">\n",
       "      <th></th>\n",
       "      <th>Unnamed: 0</th>\n",
       "      <th>label</th>\n",
       "      <th>text</th>\n",
       "      <th>label_num</th>\n",
       "    </tr>\n",
       "  </thead>\n",
       "  <tbody>\n",
       "    <tr>\n",
       "      <th>0</th>\n",
       "      <td>605</td>\n",
       "      <td>ham</td>\n",
       "      <td>Subject: enron methanol ; meter # : 988291\\r\\n...</td>\n",
       "      <td>0</td>\n",
       "    </tr>\n",
       "    <tr>\n",
       "      <th>1</th>\n",
       "      <td>2349</td>\n",
       "      <td>ham</td>\n",
       "      <td>Subject: hpl nom for january 9 , 2001\\r\\n( see...</td>\n",
       "      <td>0</td>\n",
       "    </tr>\n",
       "    <tr>\n",
       "      <th>2</th>\n",
       "      <td>3624</td>\n",
       "      <td>ham</td>\n",
       "      <td>Subject: neon retreat\\r\\nho ho ho , we ' re ar...</td>\n",
       "      <td>0</td>\n",
       "    </tr>\n",
       "    <tr>\n",
       "      <th>3</th>\n",
       "      <td>4685</td>\n",
       "      <td>spam</td>\n",
       "      <td>Subject: photoshop , windows , office . cheap ...</td>\n",
       "      <td>1</td>\n",
       "    </tr>\n",
       "    <tr>\n",
       "      <th>4</th>\n",
       "      <td>2030</td>\n",
       "      <td>ham</td>\n",
       "      <td>Subject: re : indian springs\\r\\nthis deal is t...</td>\n",
       "      <td>0</td>\n",
       "    </tr>\n",
       "    <tr>\n",
       "      <th>...</th>\n",
       "      <td>...</td>\n",
       "      <td>...</td>\n",
       "      <td>...</td>\n",
       "      <td>...</td>\n",
       "    </tr>\n",
       "    <tr>\n",
       "      <th>5166</th>\n",
       "      <td>1518</td>\n",
       "      <td>ham</td>\n",
       "      <td>Subject: put the 10 on the ft\\r\\nthe transport...</td>\n",
       "      <td>0</td>\n",
       "    </tr>\n",
       "    <tr>\n",
       "      <th>5167</th>\n",
       "      <td>404</td>\n",
       "      <td>ham</td>\n",
       "      <td>Subject: 3 / 4 / 2000 and following noms\\r\\nhp...</td>\n",
       "      <td>0</td>\n",
       "    </tr>\n",
       "    <tr>\n",
       "      <th>5168</th>\n",
       "      <td>2933</td>\n",
       "      <td>ham</td>\n",
       "      <td>Subject: calpine daily gas nomination\\r\\n&gt;\\r\\n...</td>\n",
       "      <td>0</td>\n",
       "    </tr>\n",
       "    <tr>\n",
       "      <th>5169</th>\n",
       "      <td>1409</td>\n",
       "      <td>ham</td>\n",
       "      <td>Subject: industrial worksheets for august 2000...</td>\n",
       "      <td>0</td>\n",
       "    </tr>\n",
       "    <tr>\n",
       "      <th>5170</th>\n",
       "      <td>4807</td>\n",
       "      <td>spam</td>\n",
       "      <td>Subject: important online banking alert\\r\\ndea...</td>\n",
       "      <td>1</td>\n",
       "    </tr>\n",
       "  </tbody>\n",
       "</table>\n",
       "<p>5171 rows × 4 columns</p>\n",
       "</div>"
      ],
      "text/plain": [
       "      Unnamed: 0 label                                               text  \\\n",
       "0            605   ham  Subject: enron methanol ; meter # : 988291\\r\\n...   \n",
       "1           2349   ham  Subject: hpl nom for january 9 , 2001\\r\\n( see...   \n",
       "2           3624   ham  Subject: neon retreat\\r\\nho ho ho , we ' re ar...   \n",
       "3           4685  spam  Subject: photoshop , windows , office . cheap ...   \n",
       "4           2030   ham  Subject: re : indian springs\\r\\nthis deal is t...   \n",
       "...          ...   ...                                                ...   \n",
       "5166        1518   ham  Subject: put the 10 on the ft\\r\\nthe transport...   \n",
       "5167         404   ham  Subject: 3 / 4 / 2000 and following noms\\r\\nhp...   \n",
       "5168        2933   ham  Subject: calpine daily gas nomination\\r\\n>\\r\\n...   \n",
       "5169        1409   ham  Subject: industrial worksheets for august 2000...   \n",
       "5170        4807  spam  Subject: important online banking alert\\r\\ndea...   \n",
       "\n",
       "      label_num  \n",
       "0             0  \n",
       "1             0  \n",
       "2             0  \n",
       "3             1  \n",
       "4             0  \n",
       "...         ...  \n",
       "5166          0  \n",
       "5167          0  \n",
       "5168          0  \n",
       "5169          0  \n",
       "5170          1  \n",
       "\n",
       "[5171 rows x 4 columns]"
      ]
     },
     "execution_count": 5,
     "metadata": {},
     "output_type": "execute_result"
    }
   ],
   "source": [
    "spam_data"
   ]
  },
  {
   "cell_type": "code",
   "execution_count": 6,
   "id": "149f5827",
   "metadata": {},
   "outputs": [
    {
     "name": "stdout",
     "output_type": "stream",
     "text": [
      "<class 'pandas.core.frame.DataFrame'>\n",
      "RangeIndex: 5171 entries, 0 to 5170\n",
      "Data columns (total 4 columns):\n",
      " #   Column      Non-Null Count  Dtype \n",
      "---  ------      --------------  ----- \n",
      " 0   Unnamed: 0  5171 non-null   int64 \n",
      " 1   label       5171 non-null   object\n",
      " 2   text        5171 non-null   object\n",
      " 3   label_num   5171 non-null   int64 \n",
      "dtypes: int64(2), object(2)\n",
      "memory usage: 161.7+ KB\n"
     ]
    },
    {
     "data": {
      "text/plain": [
       "Unnamed: 0    0\n",
       "label         0\n",
       "text          0\n",
       "label_num     0\n",
       "dtype: int64"
      ]
     },
     "execution_count": 6,
     "metadata": {},
     "output_type": "execute_result"
    }
   ],
   "source": [
    "# Check for null values\n",
    "spam_data.info()\n",
    "spam_data.isnull().sum()"
   ]
  },
  {
   "cell_type": "code",
   "execution_count": 7,
   "id": "8e6ba0d6",
   "metadata": {},
   "outputs": [],
   "source": [
    "# Drop second and the last column\n",
    "spam_data.drop(columns=['Unnamed: 0', 'label_num'], inplace = True)"
   ]
  },
  {
   "cell_type": "code",
   "execution_count": 8,
   "id": "f057b661",
   "metadata": {},
   "outputs": [
    {
     "data": {
      "text/html": [
       "<div>\n",
       "<style scoped>\n",
       "    .dataframe tbody tr th:only-of-type {\n",
       "        vertical-align: middle;\n",
       "    }\n",
       "\n",
       "    .dataframe tbody tr th {\n",
       "        vertical-align: top;\n",
       "    }\n",
       "\n",
       "    .dataframe thead th {\n",
       "        text-align: right;\n",
       "    }\n",
       "</style>\n",
       "<table border=\"1\" class=\"dataframe\">\n",
       "  <thead>\n",
       "    <tr style=\"text-align: right;\">\n",
       "      <th></th>\n",
       "      <th>label</th>\n",
       "      <th>text</th>\n",
       "    </tr>\n",
       "  </thead>\n",
       "  <tbody>\n",
       "    <tr>\n",
       "      <th>0</th>\n",
       "      <td>ham</td>\n",
       "      <td>Subject: enron methanol ; meter # : 988291\\r\\n...</td>\n",
       "    </tr>\n",
       "    <tr>\n",
       "      <th>1</th>\n",
       "      <td>ham</td>\n",
       "      <td>Subject: hpl nom for january 9 , 2001\\r\\n( see...</td>\n",
       "    </tr>\n",
       "    <tr>\n",
       "      <th>2</th>\n",
       "      <td>ham</td>\n",
       "      <td>Subject: neon retreat\\r\\nho ho ho , we ' re ar...</td>\n",
       "    </tr>\n",
       "    <tr>\n",
       "      <th>3</th>\n",
       "      <td>spam</td>\n",
       "      <td>Subject: photoshop , windows , office . cheap ...</td>\n",
       "    </tr>\n",
       "    <tr>\n",
       "      <th>4</th>\n",
       "      <td>ham</td>\n",
       "      <td>Subject: re : indian springs\\r\\nthis deal is t...</td>\n",
       "    </tr>\n",
       "    <tr>\n",
       "      <th>...</th>\n",
       "      <td>...</td>\n",
       "      <td>...</td>\n",
       "    </tr>\n",
       "    <tr>\n",
       "      <th>5166</th>\n",
       "      <td>ham</td>\n",
       "      <td>Subject: put the 10 on the ft\\r\\nthe transport...</td>\n",
       "    </tr>\n",
       "    <tr>\n",
       "      <th>5167</th>\n",
       "      <td>ham</td>\n",
       "      <td>Subject: 3 / 4 / 2000 and following noms\\r\\nhp...</td>\n",
       "    </tr>\n",
       "    <tr>\n",
       "      <th>5168</th>\n",
       "      <td>ham</td>\n",
       "      <td>Subject: calpine daily gas nomination\\r\\n&gt;\\r\\n...</td>\n",
       "    </tr>\n",
       "    <tr>\n",
       "      <th>5169</th>\n",
       "      <td>ham</td>\n",
       "      <td>Subject: industrial worksheets for august 2000...</td>\n",
       "    </tr>\n",
       "    <tr>\n",
       "      <th>5170</th>\n",
       "      <td>spam</td>\n",
       "      <td>Subject: important online banking alert\\r\\ndea...</td>\n",
       "    </tr>\n",
       "  </tbody>\n",
       "</table>\n",
       "<p>5171 rows × 2 columns</p>\n",
       "</div>"
      ],
      "text/plain": [
       "     label                                               text\n",
       "0      ham  Subject: enron methanol ; meter # : 988291\\r\\n...\n",
       "1      ham  Subject: hpl nom for january 9 , 2001\\r\\n( see...\n",
       "2      ham  Subject: neon retreat\\r\\nho ho ho , we ' re ar...\n",
       "3     spam  Subject: photoshop , windows , office . cheap ...\n",
       "4      ham  Subject: re : indian springs\\r\\nthis deal is t...\n",
       "...    ...                                                ...\n",
       "5166   ham  Subject: put the 10 on the ft\\r\\nthe transport...\n",
       "5167   ham  Subject: 3 / 4 / 2000 and following noms\\r\\nhp...\n",
       "5168   ham  Subject: calpine daily gas nomination\\r\\n>\\r\\n...\n",
       "5169   ham  Subject: industrial worksheets for august 2000...\n",
       "5170  spam  Subject: important online banking alert\\r\\ndea...\n",
       "\n",
       "[5171 rows x 2 columns]"
      ]
     },
     "execution_count": 8,
     "metadata": {},
     "output_type": "execute_result"
    }
   ],
   "source": [
    "spam_data"
   ]
  },
  {
   "cell_type": "code",
   "execution_count": 9,
   "id": "af5b5e66",
   "metadata": {},
   "outputs": [],
   "source": [
    "# Rename columns and make them self-explanatory\n",
    "spam_data = spam_data.rename(columns = {'label':'target', 'text' :'message'})"
   ]
  },
  {
   "cell_type": "code",
   "execution_count": 10,
   "id": "6b7666a4",
   "metadata": {},
   "outputs": [
    {
     "data": {
      "text/html": [
       "<div>\n",
       "<style scoped>\n",
       "    .dataframe tbody tr th:only-of-type {\n",
       "        vertical-align: middle;\n",
       "    }\n",
       "\n",
       "    .dataframe tbody tr th {\n",
       "        vertical-align: top;\n",
       "    }\n",
       "\n",
       "    .dataframe thead th {\n",
       "        text-align: right;\n",
       "    }\n",
       "</style>\n",
       "<table border=\"1\" class=\"dataframe\">\n",
       "  <thead>\n",
       "    <tr style=\"text-align: right;\">\n",
       "      <th></th>\n",
       "      <th>target</th>\n",
       "      <th>message</th>\n",
       "    </tr>\n",
       "  </thead>\n",
       "  <tbody>\n",
       "    <tr>\n",
       "      <th>0</th>\n",
       "      <td>ham</td>\n",
       "      <td>Subject: enron methanol ; meter # : 988291\\r\\n...</td>\n",
       "    </tr>\n",
       "    <tr>\n",
       "      <th>1</th>\n",
       "      <td>ham</td>\n",
       "      <td>Subject: hpl nom for january 9 , 2001\\r\\n( see...</td>\n",
       "    </tr>\n",
       "    <tr>\n",
       "      <th>2</th>\n",
       "      <td>ham</td>\n",
       "      <td>Subject: neon retreat\\r\\nho ho ho , we ' re ar...</td>\n",
       "    </tr>\n",
       "    <tr>\n",
       "      <th>3</th>\n",
       "      <td>spam</td>\n",
       "      <td>Subject: photoshop , windows , office . cheap ...</td>\n",
       "    </tr>\n",
       "    <tr>\n",
       "      <th>4</th>\n",
       "      <td>ham</td>\n",
       "      <td>Subject: re : indian springs\\r\\nthis deal is t...</td>\n",
       "    </tr>\n",
       "    <tr>\n",
       "      <th>...</th>\n",
       "      <td>...</td>\n",
       "      <td>...</td>\n",
       "    </tr>\n",
       "    <tr>\n",
       "      <th>5166</th>\n",
       "      <td>ham</td>\n",
       "      <td>Subject: put the 10 on the ft\\r\\nthe transport...</td>\n",
       "    </tr>\n",
       "    <tr>\n",
       "      <th>5167</th>\n",
       "      <td>ham</td>\n",
       "      <td>Subject: 3 / 4 / 2000 and following noms\\r\\nhp...</td>\n",
       "    </tr>\n",
       "    <tr>\n",
       "      <th>5168</th>\n",
       "      <td>ham</td>\n",
       "      <td>Subject: calpine daily gas nomination\\r\\n&gt;\\r\\n...</td>\n",
       "    </tr>\n",
       "    <tr>\n",
       "      <th>5169</th>\n",
       "      <td>ham</td>\n",
       "      <td>Subject: industrial worksheets for august 2000...</td>\n",
       "    </tr>\n",
       "    <tr>\n",
       "      <th>5170</th>\n",
       "      <td>spam</td>\n",
       "      <td>Subject: important online banking alert\\r\\ndea...</td>\n",
       "    </tr>\n",
       "  </tbody>\n",
       "</table>\n",
       "<p>5171 rows × 2 columns</p>\n",
       "</div>"
      ],
      "text/plain": [
       "     target                                            message\n",
       "0       ham  Subject: enron methanol ; meter # : 988291\\r\\n...\n",
       "1       ham  Subject: hpl nom for january 9 , 2001\\r\\n( see...\n",
       "2       ham  Subject: neon retreat\\r\\nho ho ho , we ' re ar...\n",
       "3      spam  Subject: photoshop , windows , office . cheap ...\n",
       "4       ham  Subject: re : indian springs\\r\\nthis deal is t...\n",
       "...     ...                                                ...\n",
       "5166    ham  Subject: put the 10 on the ft\\r\\nthe transport...\n",
       "5167    ham  Subject: 3 / 4 / 2000 and following noms\\r\\nhp...\n",
       "5168    ham  Subject: calpine daily gas nomination\\r\\n>\\r\\n...\n",
       "5169    ham  Subject: industrial worksheets for august 2000...\n",
       "5170   spam  Subject: important online banking alert\\r\\ndea...\n",
       "\n",
       "[5171 rows x 2 columns]"
      ]
     },
     "execution_count": 10,
     "metadata": {},
     "output_type": "execute_result"
    }
   ],
   "source": [
    "spam_data"
   ]
  },
  {
   "cell_type": "code",
   "execution_count": 11,
   "id": "3d8005f3",
   "metadata": {},
   "outputs": [
    {
     "data": {
      "text/plain": [
       "array([0, 0, 0, ..., 0, 0, 1])"
      ]
     },
     "execution_count": 11,
     "metadata": {},
     "output_type": "execute_result"
    }
   ],
   "source": [
    "# Use label encoder to change target text values into numeric\n",
    "from sklearn.preprocessing import LabelEncoder\n",
    "encoder = LabelEncoder()\n",
    "encoder.fit_transform(spam_data['target'])"
   ]
  },
  {
   "cell_type": "code",
   "execution_count": 12,
   "id": "0248a213",
   "metadata": {},
   "outputs": [
    {
     "data": {
      "text/html": [
       "<div>\n",
       "<style scoped>\n",
       "    .dataframe tbody tr th:only-of-type {\n",
       "        vertical-align: middle;\n",
       "    }\n",
       "\n",
       "    .dataframe tbody tr th {\n",
       "        vertical-align: top;\n",
       "    }\n",
       "\n",
       "    .dataframe thead th {\n",
       "        text-align: right;\n",
       "    }\n",
       "</style>\n",
       "<table border=\"1\" class=\"dataframe\">\n",
       "  <thead>\n",
       "    <tr style=\"text-align: right;\">\n",
       "      <th></th>\n",
       "      <th>target</th>\n",
       "      <th>message</th>\n",
       "    </tr>\n",
       "  </thead>\n",
       "  <tbody>\n",
       "    <tr>\n",
       "      <th>0</th>\n",
       "      <td>0</td>\n",
       "      <td>Subject: enron methanol ; meter # : 988291\\r\\n...</td>\n",
       "    </tr>\n",
       "    <tr>\n",
       "      <th>1</th>\n",
       "      <td>0</td>\n",
       "      <td>Subject: hpl nom for january 9 , 2001\\r\\n( see...</td>\n",
       "    </tr>\n",
       "    <tr>\n",
       "      <th>2</th>\n",
       "      <td>0</td>\n",
       "      <td>Subject: neon retreat\\r\\nho ho ho , we ' re ar...</td>\n",
       "    </tr>\n",
       "    <tr>\n",
       "      <th>3</th>\n",
       "      <td>1</td>\n",
       "      <td>Subject: photoshop , windows , office . cheap ...</td>\n",
       "    </tr>\n",
       "    <tr>\n",
       "      <th>4</th>\n",
       "      <td>0</td>\n",
       "      <td>Subject: re : indian springs\\r\\nthis deal is t...</td>\n",
       "    </tr>\n",
       "    <tr>\n",
       "      <th>...</th>\n",
       "      <td>...</td>\n",
       "      <td>...</td>\n",
       "    </tr>\n",
       "    <tr>\n",
       "      <th>5166</th>\n",
       "      <td>0</td>\n",
       "      <td>Subject: put the 10 on the ft\\r\\nthe transport...</td>\n",
       "    </tr>\n",
       "    <tr>\n",
       "      <th>5167</th>\n",
       "      <td>0</td>\n",
       "      <td>Subject: 3 / 4 / 2000 and following noms\\r\\nhp...</td>\n",
       "    </tr>\n",
       "    <tr>\n",
       "      <th>5168</th>\n",
       "      <td>0</td>\n",
       "      <td>Subject: calpine daily gas nomination\\r\\n&gt;\\r\\n...</td>\n",
       "    </tr>\n",
       "    <tr>\n",
       "      <th>5169</th>\n",
       "      <td>0</td>\n",
       "      <td>Subject: industrial worksheets for august 2000...</td>\n",
       "    </tr>\n",
       "    <tr>\n",
       "      <th>5170</th>\n",
       "      <td>1</td>\n",
       "      <td>Subject: important online banking alert\\r\\ndea...</td>\n",
       "    </tr>\n",
       "  </tbody>\n",
       "</table>\n",
       "<p>5171 rows × 2 columns</p>\n",
       "</div>"
      ],
      "text/plain": [
       "      target                                            message\n",
       "0          0  Subject: enron methanol ; meter # : 988291\\r\\n...\n",
       "1          0  Subject: hpl nom for january 9 , 2001\\r\\n( see...\n",
       "2          0  Subject: neon retreat\\r\\nho ho ho , we ' re ar...\n",
       "3          1  Subject: photoshop , windows , office . cheap ...\n",
       "4          0  Subject: re : indian springs\\r\\nthis deal is t...\n",
       "...      ...                                                ...\n",
       "5166       0  Subject: put the 10 on the ft\\r\\nthe transport...\n",
       "5167       0  Subject: 3 / 4 / 2000 and following noms\\r\\nhp...\n",
       "5168       0  Subject: calpine daily gas nomination\\r\\n>\\r\\n...\n",
       "5169       0  Subject: industrial worksheets for august 2000...\n",
       "5170       1  Subject: important online banking alert\\r\\ndea...\n",
       "\n",
       "[5171 rows x 2 columns]"
      ]
     },
     "execution_count": 12,
     "metadata": {},
     "output_type": "execute_result"
    }
   ],
   "source": [
    "spam_data['target'] = encoder.fit_transform(spam_data['target'])\n",
    "spam_data"
   ]
  },
  {
   "cell_type": "code",
   "execution_count": 13,
   "id": "05c607f8",
   "metadata": {},
   "outputs": [
    {
     "data": {
      "text/plain": [
       "178"
      ]
     },
     "execution_count": 13,
     "metadata": {},
     "output_type": "execute_result"
    }
   ],
   "source": [
    "# Check for duplicate values\n",
    "spam_data.duplicated().sum()"
   ]
  },
  {
   "cell_type": "code",
   "execution_count": 14,
   "id": "aaa59a00",
   "metadata": {},
   "outputs": [],
   "source": [
    "# Remove the duplicate values\n",
    "spam_data = spam_data.drop_duplicates(keep ='first') # Keeps the first value and removes the duplicates"
   ]
  },
  {
   "cell_type": "code",
   "execution_count": 15,
   "id": "7c09f891",
   "metadata": {},
   "outputs": [
    {
     "data": {
      "text/plain": [
       "0"
      ]
     },
     "execution_count": 15,
     "metadata": {},
     "output_type": "execute_result"
    }
   ],
   "source": [
    "# Check for duplicate \n",
    "spam_data.duplicated().sum()"
   ]
  },
  {
   "cell_type": "code",
   "execution_count": 16,
   "id": "59fdd919",
   "metadata": {},
   "outputs": [
    {
     "data": {
      "text/plain": [
       "(4993, 2)"
      ]
     },
     "execution_count": 16,
     "metadata": {},
     "output_type": "execute_result"
    }
   ],
   "source": [
    "spam_data.shape"
   ]
  },
  {
   "cell_type": "markdown",
   "id": "19b3b69f",
   "metadata": {},
   "source": [
    "## Exploratory Data Analysis"
   ]
  },
  {
   "cell_type": "code",
   "execution_count": 17,
   "id": "ef701cb6",
   "metadata": {},
   "outputs": [
    {
     "data": {
      "text/plain": [
       "0    3531\n",
       "1    1462\n",
       "Name: target, dtype: int64"
      ]
     },
     "execution_count": 17,
     "metadata": {},
     "output_type": "execute_result"
    }
   ],
   "source": [
    "# Check value counts\n",
    "spam_data['target'].value_counts()"
   ]
  },
  {
   "cell_type": "code",
   "execution_count": 18,
   "id": "311033a2",
   "metadata": {},
   "outputs": [
    {
     "data": {
      "image/png": "[encoded data removed]",
      "text/plain": [
       "<Figure size 432x288 with 1 Axes>"
      ]
     },
     "metadata": {},
     "output_type": "display_data"
    }
   ],
   "source": [
    "# Plot the data in matplotlib\n",
    "plt.pie(spam_data['target'].value_counts(), labels = ['Ham', 'Spam'],autopct= '%0.2f')\n",
    "plt.show()"
   ]
  },
  {
   "cell_type": "code",
   "execution_count": 19,
   "id": "9a78e086",
   "metadata": {},
   "outputs": [],
   "source": [
    "# Slight difference in data"
   ]
  },
  {
   "cell_type": "code",
   "execution_count": 20,
   "id": "b56749fb",
   "metadata": {},
   "outputs": [
    {
     "name": "stdout",
     "output_type": "stream",
     "text": [
      "Requirement already satisfied: nltk in c:\\users\\pneuma\\desktop\\spam_mail\\env\\lib\\site-packages (3.6.7)\n",
      "Requirement already satisfied: regex>=2021.8.3 in c:\\users\\pneuma\\desktop\\spam_mail\\env\\lib\\site-packages (from nltk) (2022.1.18)\n",
      "Requirement already satisfied: tqdm in c:\\users\\pneuma\\desktop\\spam_mail\\env\\lib\\site-packages (from nltk) (4.62.3)\n",
      "Requirement already satisfied: joblib in c:\\users\\pneuma\\desktop\\spam_mail\\env\\lib\\site-packages (from nltk) (1.1.0)\n",
      "Requirement already satisfied: click in c:\\users\\pneuma\\desktop\\spam_mail\\env\\lib\\site-packages (from nltk) (8.0.3)\n",
      "Requirement already satisfied: colorama in c:\\users\\pneuma\\desktop\\spam_mail\\env\\lib\\site-packages (from click->nltk) (0.4.4)\n"
     ]
    }
   ],
   "source": [
    "# Futher analysis using nltk \n",
    "!pip install nltk;"
   ]
  },
  {
   "cell_type": "code",
   "execution_count": 21,
   "id": "9834ed73",
   "metadata": {},
   "outputs": [],
   "source": [
    "import nltk"
   ]
  },
  {
   "cell_type": "code",
   "execution_count": 22,
   "id": "3c1227ec",
   "metadata": {},
   "outputs": [
    {
     "name": "stderr",
     "output_type": "stream",
     "text": [
      "[nltk_data] Downloading package punkt to\n",
      "[nltk_data]     C:\\Users\\Pneuma\\AppData\\Roaming\\nltk_data...\n",
      "[nltk_data]   Package punkt is already up-to-date!\n"
     ]
    },
    {
     "data": {
      "text/plain": [
       "True"
      ]
     },
     "execution_count": 22,
     "metadata": {},
     "output_type": "execute_result"
    }
   ],
   "source": [
    "nltk.download('punkt') # For NLTK dependencies"
   ]
  },
  {
   "cell_type": "code",
   "execution_count": 23,
   "id": "8eaa2e5a",
   "metadata": {},
   "outputs": [
    {
     "name": "stderr",
     "output_type": "stream",
     "text": [
      "C:\\Users\\Pneuma\\AppData\\Local\\Temp/ipykernel_748/3109159875.py:3: SettingWithCopyWarning: \n",
      "A value is trying to be set on a copy of a slice from a DataFrame.\n",
      "Try using .loc[row_indexer,col_indexer] = value instead\n",
      "\n",
      "See the caveats in the documentation: https://pandas.pydata.org/pandas-docs/stable/user_guide/indexing.html#returning-a-view-versus-a-copy\n",
      "  spam_data['num_characters'] = spam_data['message'].apply(len)\n"
     ]
    }
   ],
   "source": [
    "# Check the length of each message and create a new column\n",
    "spam_data['message'].apply(len)\n",
    "spam_data['num_characters'] = spam_data['message'].apply(len)"
   ]
  },
  {
   "cell_type": "code",
   "execution_count": 24,
   "id": "55a14d8c",
   "metadata": {},
   "outputs": [
    {
     "data": {
      "text/html": [
       "<div>\n",
       "<style scoped>\n",
       "    .dataframe tbody tr th:only-of-type {\n",
       "        vertical-align: middle;\n",
       "    }\n",
       "\n",
       "    .dataframe tbody tr th {\n",
       "        vertical-align: top;\n",
       "    }\n",
       "\n",
       "    .dataframe thead th {\n",
       "        text-align: right;\n",
       "    }\n",
       "</style>\n",
       "<table border=\"1\" class=\"dataframe\">\n",
       "  <thead>\n",
       "    <tr style=\"text-align: right;\">\n",
       "      <th></th>\n",
       "      <th>target</th>\n",
       "      <th>message</th>\n",
       "      <th>num_characters</th>\n",
       "    </tr>\n",
       "  </thead>\n",
       "  <tbody>\n",
       "    <tr>\n",
       "      <th>0</th>\n",
       "      <td>0</td>\n",
       "      <td>Subject: enron methanol ; meter # : 988291\\r\\n...</td>\n",
       "      <td>327</td>\n",
       "    </tr>\n",
       "    <tr>\n",
       "      <th>1</th>\n",
       "      <td>0</td>\n",
       "      <td>Subject: hpl nom for january 9 , 2001\\r\\n( see...</td>\n",
       "      <td>97</td>\n",
       "    </tr>\n",
       "    <tr>\n",
       "      <th>2</th>\n",
       "      <td>0</td>\n",
       "      <td>Subject: neon retreat\\r\\nho ho ho , we ' re ar...</td>\n",
       "      <td>2524</td>\n",
       "    </tr>\n",
       "    <tr>\n",
       "      <th>3</th>\n",
       "      <td>1</td>\n",
       "      <td>Subject: photoshop , windows , office . cheap ...</td>\n",
       "      <td>414</td>\n",
       "    </tr>\n",
       "    <tr>\n",
       "      <th>4</th>\n",
       "      <td>0</td>\n",
       "      <td>Subject: re : indian springs\\r\\nthis deal is t...</td>\n",
       "      <td>336</td>\n",
       "    </tr>\n",
       "    <tr>\n",
       "      <th>...</th>\n",
       "      <td>...</td>\n",
       "      <td>...</td>\n",
       "      <td>...</td>\n",
       "    </tr>\n",
       "    <tr>\n",
       "      <th>5165</th>\n",
       "      <td>0</td>\n",
       "      <td>Subject: fw : crosstex energy , driscoll ranch...</td>\n",
       "      <td>869</td>\n",
       "    </tr>\n",
       "    <tr>\n",
       "      <th>5166</th>\n",
       "      <td>0</td>\n",
       "      <td>Subject: put the 10 on the ft\\r\\nthe transport...</td>\n",
       "      <td>534</td>\n",
       "    </tr>\n",
       "    <tr>\n",
       "      <th>5167</th>\n",
       "      <td>0</td>\n",
       "      <td>Subject: 3 / 4 / 2000 and following noms\\r\\nhp...</td>\n",
       "      <td>1114</td>\n",
       "    </tr>\n",
       "    <tr>\n",
       "      <th>5169</th>\n",
       "      <td>0</td>\n",
       "      <td>Subject: industrial worksheets for august 2000...</td>\n",
       "      <td>573</td>\n",
       "    </tr>\n",
       "    <tr>\n",
       "      <th>5170</th>\n",
       "      <td>1</td>\n",
       "      <td>Subject: important online banking alert\\r\\ndea...</td>\n",
       "      <td>1114</td>\n",
       "    </tr>\n",
       "  </tbody>\n",
       "</table>\n",
       "<p>4993 rows × 3 columns</p>\n",
       "</div>"
      ],
      "text/plain": [
       "      target                                            message  \\\n",
       "0          0  Subject: enron methanol ; meter # : 988291\\r\\n...   \n",
       "1          0  Subject: hpl nom for january 9 , 2001\\r\\n( see...   \n",
       "2          0  Subject: neon retreat\\r\\nho ho ho , we ' re ar...   \n",
       "3          1  Subject: photoshop , windows , office . cheap ...   \n",
       "4          0  Subject: re : indian springs\\r\\nthis deal is t...   \n",
       "...      ...                                                ...   \n",
       "5165       0  Subject: fw : crosstex energy , driscoll ranch...   \n",
       "5166       0  Subject: put the 10 on the ft\\r\\nthe transport...   \n",
       "5167       0  Subject: 3 / 4 / 2000 and following noms\\r\\nhp...   \n",
       "5169       0  Subject: industrial worksheets for august 2000...   \n",
       "5170       1  Subject: important online banking alert\\r\\ndea...   \n",
       "\n",
       "      num_characters  \n",
       "0                327  \n",
       "1                 97  \n",
       "2               2524  \n",
       "3                414  \n",
       "4                336  \n",
       "...              ...  \n",
       "5165             869  \n",
       "5166             534  \n",
       "5167            1114  \n",
       "5169             573  \n",
       "5170            1114  \n",
       "\n",
       "[4993 rows x 3 columns]"
      ]
     },
     "execution_count": 24,
     "metadata": {},
     "output_type": "execute_result"
    }
   ],
   "source": [
    "spam_data"
   ]
  },
  {
   "cell_type": "code",
   "execution_count": 25,
   "id": "8e489fb4",
   "metadata": {},
   "outputs": [
    {
     "data": {
      "text/plain": [
       "0       [Subject, :, enron, methanol, ;, meter, #, :, ...\n",
       "1       [Subject, :, hpl, nom, for, january, 9, ,, 200...\n",
       "2       [Subject, :, neon, retreat, ho, ho, ho, ,, we,...\n",
       "3       [Subject, :, photoshop, ,, windows, ,, office,...\n",
       "4       [Subject, :, re, :, indian, springs, this, dea...\n",
       "                              ...                        \n",
       "5165    [Subject, :, fw, :, crosstex, energy, ,, drisc...\n",
       "5166    [Subject, :, put, the, 10, on, the, ft, the, t...\n",
       "5167    [Subject, :, 3, /, 4, /, 2000, and, following,...\n",
       "5169    [Subject, :, industrial, worksheets, for, augu...\n",
       "5170    [Subject, :, important, online, banking, alert...\n",
       "Name: message, Length: 4993, dtype: object"
      ]
     },
     "execution_count": 25,
     "metadata": {},
     "output_type": "execute_result"
    }
   ],
   "source": [
    "# Extract the number of words in the messages using nltk tokenizer\n",
    "spam_data[\"message\"].apply(lambda x: nltk.word_tokenize(x))"
   ]
  },
  {
   "cell_type": "code",
   "execution_count": 26,
   "id": "7b6d75dd",
   "metadata": {},
   "outputs": [
    {
     "name": "stderr",
     "output_type": "stream",
     "text": [
      "C:\\Users\\Pneuma\\AppData\\Local\\Temp/ipykernel_748/3170460018.py:2: SettingWithCopyWarning: \n",
      "A value is trying to be set on a copy of a slice from a DataFrame.\n",
      "Try using .loc[row_indexer,col_indexer] = value instead\n",
      "\n",
      "See the caveats in the documentation: https://pandas.pydata.org/pandas-docs/stable/user_guide/indexing.html#returning-a-view-versus-a-copy\n",
      "  spam_data['word_count'] = spam_data['message'].apply(lambda x: len(nltk.word_tokenize(x)))\n"
     ]
    },
    {
     "data": {
      "text/html": [
       "<div>\n",
       "<style scoped>\n",
       "    .dataframe tbody tr th:only-of-type {\n",
       "        vertical-align: middle;\n",
       "    }\n",
       "\n",
       "    .dataframe tbody tr th {\n",
       "        vertical-align: top;\n",
       "    }\n",
       "\n",
       "    .dataframe thead th {\n",
       "        text-align: right;\n",
       "    }\n",
       "</style>\n",
       "<table border=\"1\" class=\"dataframe\">\n",
       "  <thead>\n",
       "    <tr style=\"text-align: right;\">\n",
       "      <th></th>\n",
       "      <th>target</th>\n",
       "      <th>message</th>\n",
       "      <th>num_characters</th>\n",
       "      <th>word_count</th>\n",
       "    </tr>\n",
       "  </thead>\n",
       "  <tbody>\n",
       "    <tr>\n",
       "      <th>0</th>\n",
       "      <td>0</td>\n",
       "      <td>Subject: enron methanol ; meter # : 988291\\r\\n...</td>\n",
       "      <td>327</td>\n",
       "      <td>68</td>\n",
       "    </tr>\n",
       "    <tr>\n",
       "      <th>1</th>\n",
       "      <td>0</td>\n",
       "      <td>Subject: hpl nom for january 9 , 2001\\r\\n( see...</td>\n",
       "      <td>97</td>\n",
       "      <td>24</td>\n",
       "    </tr>\n",
       "    <tr>\n",
       "      <th>2</th>\n",
       "      <td>0</td>\n",
       "      <td>Subject: neon retreat\\r\\nho ho ho , we ' re ar...</td>\n",
       "      <td>2524</td>\n",
       "      <td>551</td>\n",
       "    </tr>\n",
       "    <tr>\n",
       "      <th>3</th>\n",
       "      <td>1</td>\n",
       "      <td>Subject: photoshop , windows , office . cheap ...</td>\n",
       "      <td>414</td>\n",
       "      <td>49</td>\n",
       "    </tr>\n",
       "    <tr>\n",
       "      <th>4</th>\n",
       "      <td>0</td>\n",
       "      <td>Subject: re : indian springs\\r\\nthis deal is t...</td>\n",
       "      <td>336</td>\n",
       "      <td>71</td>\n",
       "    </tr>\n",
       "    <tr>\n",
       "      <th>...</th>\n",
       "      <td>...</td>\n",
       "      <td>...</td>\n",
       "      <td>...</td>\n",
       "      <td>...</td>\n",
       "    </tr>\n",
       "    <tr>\n",
       "      <th>5165</th>\n",
       "      <td>0</td>\n",
       "      <td>Subject: fw : crosstex energy , driscoll ranch...</td>\n",
       "      <td>869</td>\n",
       "      <td>197</td>\n",
       "    </tr>\n",
       "    <tr>\n",
       "      <th>5166</th>\n",
       "      <td>0</td>\n",
       "      <td>Subject: put the 10 on the ft\\r\\nthe transport...</td>\n",
       "      <td>534</td>\n",
       "      <td>156</td>\n",
       "    </tr>\n",
       "    <tr>\n",
       "      <th>5167</th>\n",
       "      <td>0</td>\n",
       "      <td>Subject: 3 / 4 / 2000 and following noms\\r\\nhp...</td>\n",
       "      <td>1114</td>\n",
       "      <td>306</td>\n",
       "    </tr>\n",
       "    <tr>\n",
       "      <th>5169</th>\n",
       "      <td>0</td>\n",
       "      <td>Subject: industrial worksheets for august 2000...</td>\n",
       "      <td>573</td>\n",
       "      <td>112</td>\n",
       "    </tr>\n",
       "    <tr>\n",
       "      <th>5170</th>\n",
       "      <td>1</td>\n",
       "      <td>Subject: important online banking alert\\r\\ndea...</td>\n",
       "      <td>1114</td>\n",
       "      <td>200</td>\n",
       "    </tr>\n",
       "  </tbody>\n",
       "</table>\n",
       "<p>4993 rows × 4 columns</p>\n",
       "</div>"
      ],
      "text/plain": [
       "      target                                            message  \\\n",
       "0          0  Subject: enron methanol ; meter # : 988291\\r\\n...   \n",
       "1          0  Subject: hpl nom for january 9 , 2001\\r\\n( see...   \n",
       "2          0  Subject: neon retreat\\r\\nho ho ho , we ' re ar...   \n",
       "3          1  Subject: photoshop , windows , office . cheap ...   \n",
       "4          0  Subject: re : indian springs\\r\\nthis deal is t...   \n",
       "...      ...                                                ...   \n",
       "5165       0  Subject: fw : crosstex energy , driscoll ranch...   \n",
       "5166       0  Subject: put the 10 on the ft\\r\\nthe transport...   \n",
       "5167       0  Subject: 3 / 4 / 2000 and following noms\\r\\nhp...   \n",
       "5169       0  Subject: industrial worksheets for august 2000...   \n",
       "5170       1  Subject: important online banking alert\\r\\ndea...   \n",
       "\n",
       "      num_characters  word_count  \n",
       "0                327          68  \n",
       "1                 97          24  \n",
       "2               2524         551  \n",
       "3                414          49  \n",
       "4                336          71  \n",
       "...              ...         ...  \n",
       "5165             869         197  \n",
       "5166             534         156  \n",
       "5167            1114         306  \n",
       "5169             573         112  \n",
       "5170            1114         200  \n",
       "\n",
       "[4993 rows x 4 columns]"
      ]
     },
     "execution_count": 26,
     "metadata": {},
     "output_type": "execute_result"
    }
   ],
   "source": [
    "# Count the words and add a new column to the DataFrame\n",
    "spam_data['word_count'] = spam_data['message'].apply(lambda x: len(nltk.word_tokenize(x)))\n",
    "spam_data"
   ]
  },
  {
   "cell_type": "code",
   "execution_count": 29,
   "id": "78683b96",
   "metadata": {},
   "outputs": [
    {
     "data": {
      "text/html": [
       "<div>\n",
       "<style scoped>\n",
       "    .dataframe tbody tr th:only-of-type {\n",
       "        vertical-align: middle;\n",
       "    }\n",
       "\n",
       "    .dataframe tbody tr th {\n",
       "        vertical-align: top;\n",
       "    }\n",
       "\n",
       "    .dataframe thead th {\n",
       "        text-align: right;\n",
       "    }\n",
       "</style>\n",
       "<table border=\"1\" class=\"dataframe\">\n",
       "  <thead>\n",
       "    <tr style=\"text-align: right;\">\n",
       "      <th></th>\n",
       "      <th>target</th>\n",
       "      <th>message</th>\n",
       "      <th>num_characters</th>\n",
       "      <th>word_count</th>\n",
       "    </tr>\n",
       "  </thead>\n",
       "  <tbody>\n",
       "    <tr>\n",
       "      <th>0</th>\n",
       "      <td>0</td>\n",
       "      <td>Subject: enron methanol ; meter # : 988291\\r\\n...</td>\n",
       "      <td>327</td>\n",
       "      <td>68</td>\n",
       "    </tr>\n",
       "    <tr>\n",
       "      <th>1</th>\n",
       "      <td>0</td>\n",
       "      <td>Subject: hpl nom for january 9 , 2001\\r\\n( see...</td>\n",
       "      <td>97</td>\n",
       "      <td>24</td>\n",
       "    </tr>\n",
       "    <tr>\n",
       "      <th>2</th>\n",
       "      <td>0</td>\n",
       "      <td>Subject: neon retreat\\r\\nho ho ho , we ' re ar...</td>\n",
       "      <td>2524</td>\n",
       "      <td>551</td>\n",
       "    </tr>\n",
       "    <tr>\n",
       "      <th>3</th>\n",
       "      <td>1</td>\n",
       "      <td>Subject: photoshop , windows , office . cheap ...</td>\n",
       "      <td>414</td>\n",
       "      <td>49</td>\n",
       "    </tr>\n",
       "    <tr>\n",
       "      <th>4</th>\n",
       "      <td>0</td>\n",
       "      <td>Subject: re : indian springs\\r\\nthis deal is t...</td>\n",
       "      <td>336</td>\n",
       "      <td>71</td>\n",
       "    </tr>\n",
       "    <tr>\n",
       "      <th>...</th>\n",
       "      <td>...</td>\n",
       "      <td>...</td>\n",
       "      <td>...</td>\n",
       "      <td>...</td>\n",
       "    </tr>\n",
       "    <tr>\n",
       "      <th>5165</th>\n",
       "      <td>0</td>\n",
       "      <td>Subject: fw : crosstex energy , driscoll ranch...</td>\n",
       "      <td>869</td>\n",
       "      <td>197</td>\n",
       "    </tr>\n",
       "    <tr>\n",
       "      <th>5166</th>\n",
       "      <td>0</td>\n",
       "      <td>Subject: put the 10 on the ft\\r\\nthe transport...</td>\n",
       "      <td>534</td>\n",
       "      <td>156</td>\n",
       "    </tr>\n",
       "    <tr>\n",
       "      <th>5167</th>\n",
       "      <td>0</td>\n",
       "      <td>Subject: 3 / 4 / 2000 and following noms\\r\\nhp...</td>\n",
       "      <td>1114</td>\n",
       "      <td>306</td>\n",
       "    </tr>\n",
       "    <tr>\n",
       "      <th>5169</th>\n",
       "      <td>0</td>\n",
       "      <td>Subject: industrial worksheets for august 2000...</td>\n",
       "      <td>573</td>\n",
       "      <td>112</td>\n",
       "    </tr>\n",
       "    <tr>\n",
       "      <th>5170</th>\n",
       "      <td>1</td>\n",
       "      <td>Subject: important online banking alert\\r\\ndea...</td>\n",
       "      <td>1114</td>\n",
       "      <td>200</td>\n",
       "    </tr>\n",
       "  </tbody>\n",
       "</table>\n",
       "<p>4993 rows × 4 columns</p>\n",
       "</div>"
      ],
      "text/plain": [
       "      target                                            message  \\\n",
       "0          0  Subject: enron methanol ; meter # : 988291\\r\\n...   \n",
       "1          0  Subject: hpl nom for january 9 , 2001\\r\\n( see...   \n",
       "2          0  Subject: neon retreat\\r\\nho ho ho , we ' re ar...   \n",
       "3          1  Subject: photoshop , windows , office . cheap ...   \n",
       "4          0  Subject: re : indian springs\\r\\nthis deal is t...   \n",
       "...      ...                                                ...   \n",
       "5165       0  Subject: fw : crosstex energy , driscoll ranch...   \n",
       "5166       0  Subject: put the 10 on the ft\\r\\nthe transport...   \n",
       "5167       0  Subject: 3 / 4 / 2000 and following noms\\r\\nhp...   \n",
       "5169       0  Subject: industrial worksheets for august 2000...   \n",
       "5170       1  Subject: important online banking alert\\r\\ndea...   \n",
       "\n",
       "      num_characters  word_count  \n",
       "0                327          68  \n",
       "1                 97          24  \n",
       "2               2524         551  \n",
       "3                414          49  \n",
       "4                336          71  \n",
       "...              ...         ...  \n",
       "5165             869         197  \n",
       "5166             534         156  \n",
       "5167            1114         306  \n",
       "5169             573         112  \n",
       "5170            1114         200  \n",
       "\n",
       "[4993 rows x 4 columns]"
      ]
     },
     "execution_count": 29,
     "metadata": {},
     "output_type": "execute_result"
    }
   ],
   "source": [
    "spam_data"
   ]
  },
  {
   "cell_type": "code",
   "execution_count": 30,
   "id": "b6f5f147",
   "metadata": {},
   "outputs": [
    {
     "name": "stderr",
     "output_type": "stream",
     "text": [
      "C:\\Users\\Pneuma\\AppData\\Local\\Temp/ipykernel_748/3300578500.py:2: SettingWithCopyWarning: \n",
      "A value is trying to be set on a copy of a slice from a DataFrame.\n",
      "Try using .loc[row_indexer,col_indexer] = value instead\n",
      "\n",
      "See the caveats in the documentation: https://pandas.pydata.org/pandas-docs/stable/user_guide/indexing.html#returning-a-view-versus-a-copy\n",
      "  spam_data['sent_count'] = spam_data['message'].apply(lambda x: len(nltk.sent_tokenize(x)))\n"
     ]
    }
   ],
   "source": [
    "# Tokenize data based on sentence\n",
    "spam_data['sent_count'] = spam_data['message'].apply(lambda x: len(nltk.sent_tokenize(x)))"
   ]
  },
  {
   "cell_type": "code",
   "execution_count": 31,
   "id": "a9c9df6e",
   "metadata": {},
   "outputs": [
    {
     "data": {
      "text/html": [
       "<div>\n",
       "<style scoped>\n",
       "    .dataframe tbody tr th:only-of-type {\n",
       "        vertical-align: middle;\n",
       "    }\n",
       "\n",
       "    .dataframe tbody tr th {\n",
       "        vertical-align: top;\n",
       "    }\n",
       "\n",
       "    .dataframe thead th {\n",
       "        text-align: right;\n",
       "    }\n",
       "</style>\n",
       "<table border=\"1\" class=\"dataframe\">\n",
       "  <thead>\n",
       "    <tr style=\"text-align: right;\">\n",
       "      <th></th>\n",
       "      <th>target</th>\n",
       "      <th>message</th>\n",
       "      <th>num_characters</th>\n",
       "      <th>word_count</th>\n",
       "      <th>sent_count</th>\n",
       "    </tr>\n",
       "  </thead>\n",
       "  <tbody>\n",
       "    <tr>\n",
       "      <th>4179</th>\n",
       "      <td>0</td>\n",
       "      <td>Subject: potential list for november\\r\\ndaren ...</td>\n",
       "      <td>536</td>\n",
       "      <td>107</td>\n",
       "      <td>4</td>\n",
       "    </tr>\n",
       "    <tr>\n",
       "      <th>1948</th>\n",
       "      <td>0</td>\n",
       "      <td>Subject: nomination - eastrans - - 4 / 4 and 4...</td>\n",
       "      <td>683</td>\n",
       "      <td>162</td>\n",
       "      <td>3</td>\n",
       "    </tr>\n",
       "    <tr>\n",
       "      <th>780</th>\n",
       "      <td>1</td>\n",
       "      <td>Subject: but it ' s not interesting\\r\\nwed , 0...</td>\n",
       "      <td>322</td>\n",
       "      <td>73</td>\n",
       "      <td>7</td>\n",
       "    </tr>\n",
       "    <tr>\n",
       "      <th>3597</th>\n",
       "      <td>0</td>\n",
       "      <td>Subject: enron / hpl actuals for january 17 , ...</td>\n",
       "      <td>77</td>\n",
       "      <td>18</td>\n",
       "      <td>2</td>\n",
       "    </tr>\n",
       "    <tr>\n",
       "      <th>1957</th>\n",
       "      <td>0</td>\n",
       "      <td>Subject: physical curve mappings _ sitara\\r\\nh...</td>\n",
       "      <td>609</td>\n",
       "      <td>128</td>\n",
       "      <td>7</td>\n",
       "    </tr>\n",
       "  </tbody>\n",
       "</table>\n",
       "</div>"
      ],
      "text/plain": [
       "      target                                            message  \\\n",
       "4179       0  Subject: potential list for november\\r\\ndaren ...   \n",
       "1948       0  Subject: nomination - eastrans - - 4 / 4 and 4...   \n",
       "780        1  Subject: but it ' s not interesting\\r\\nwed , 0...   \n",
       "3597       0  Subject: enron / hpl actuals for january 17 , ...   \n",
       "1957       0  Subject: physical curve mappings _ sitara\\r\\nh...   \n",
       "\n",
       "      num_characters  word_count  sent_count  \n",
       "4179             536         107           4  \n",
       "1948             683         162           3  \n",
       "780              322          73           7  \n",
       "3597              77          18           2  \n",
       "1957             609         128           7  "
      ]
     },
     "execution_count": 31,
     "metadata": {},
     "output_type": "execute_result"
    }
   ],
   "source": [
    "spam_data.sample(5)"
   ]
  },
  {
   "cell_type": "code",
   "execution_count": 32,
   "id": "d2eff83a",
   "metadata": {},
   "outputs": [
    {
     "data": {
      "text/html": [
       "<div>\n",
       "<style scoped>\n",
       "    .dataframe tbody tr th:only-of-type {\n",
       "        vertical-align: middle;\n",
       "    }\n",
       "\n",
       "    .dataframe tbody tr th {\n",
       "        vertical-align: top;\n",
       "    }\n",
       "\n",
       "    .dataframe thead th {\n",
       "        text-align: right;\n",
       "    }\n",
       "</style>\n",
       "<table border=\"1\" class=\"dataframe\">\n",
       "  <thead>\n",
       "    <tr style=\"text-align: right;\">\n",
       "      <th></th>\n",
       "      <th>num_characters</th>\n",
       "      <th>word_count</th>\n",
       "      <th>sent_count</th>\n",
       "    </tr>\n",
       "  </thead>\n",
       "  <tbody>\n",
       "    <tr>\n",
       "      <th>count</th>\n",
       "      <td>4993.000000</td>\n",
       "      <td>4993.000000</td>\n",
       "      <td>4993.000000</td>\n",
       "    </tr>\n",
       "    <tr>\n",
       "      <th>mean</th>\n",
       "      <td>1069.426397</td>\n",
       "      <td>233.678149</td>\n",
       "      <td>10.202884</td>\n",
       "    </tr>\n",
       "    <tr>\n",
       "      <th>std</th>\n",
       "      <td>1547.863387</td>\n",
       "      <td>340.702932</td>\n",
       "      <td>22.003030</td>\n",
       "    </tr>\n",
       "    <tr>\n",
       "      <th>min</th>\n",
       "      <td>11.000000</td>\n",
       "      <td>2.000000</td>\n",
       "      <td>1.000000</td>\n",
       "    </tr>\n",
       "    <tr>\n",
       "      <th>25%</th>\n",
       "      <td>256.000000</td>\n",
       "      <td>55.000000</td>\n",
       "      <td>3.000000</td>\n",
       "    </tr>\n",
       "    <tr>\n",
       "      <th>50%</th>\n",
       "      <td>557.000000</td>\n",
       "      <td>125.000000</td>\n",
       "      <td>6.000000</td>\n",
       "    </tr>\n",
       "    <tr>\n",
       "      <th>75%</th>\n",
       "      <td>1262.000000</td>\n",
       "      <td>288.000000</td>\n",
       "      <td>12.000000</td>\n",
       "    </tr>\n",
       "    <tr>\n",
       "      <th>max</th>\n",
       "      <td>32258.000000</td>\n",
       "      <td>8863.000000</td>\n",
       "      <td>1163.000000</td>\n",
       "    </tr>\n",
       "  </tbody>\n",
       "</table>\n",
       "</div>"
      ],
      "text/plain": [
       "       num_characters   word_count   sent_count\n",
       "count     4993.000000  4993.000000  4993.000000\n",
       "mean      1069.426397   233.678149    10.202884\n",
       "std       1547.863387   340.702932    22.003030\n",
       "min         11.000000     2.000000     1.000000\n",
       "25%        256.000000    55.000000     3.000000\n",
       "50%        557.000000   125.000000     6.000000\n",
       "75%       1262.000000   288.000000    12.000000\n",
       "max      32258.000000  8863.000000  1163.000000"
      ]
     },
     "execution_count": 32,
     "metadata": {},
     "output_type": "execute_result"
    }
   ],
   "source": [
    "# describe the dataframe\n",
    "spam_data[['num_characters','word_count', 'sent_count']].describe()"
   ]
  },
  {
   "cell_type": "code",
   "execution_count": 33,
   "id": "ac1e4210",
   "metadata": {},
   "outputs": [
    {
     "data": {
      "text/html": [
       "<div>\n",
       "<style scoped>\n",
       "    .dataframe tbody tr th:only-of-type {\n",
       "        vertical-align: middle;\n",
       "    }\n",
       "\n",
       "    .dataframe tbody tr th {\n",
       "        vertical-align: top;\n",
       "    }\n",
       "\n",
       "    .dataframe thead th {\n",
       "        text-align: right;\n",
       "    }\n",
       "</style>\n",
       "<table border=\"1\" class=\"dataframe\">\n",
       "  <thead>\n",
       "    <tr style=\"text-align: right;\">\n",
       "      <th></th>\n",
       "      <th>num_characters</th>\n",
       "      <th>word_count</th>\n",
       "      <th>sent_count</th>\n",
       "    </tr>\n",
       "  </thead>\n",
       "  <tbody>\n",
       "    <tr>\n",
       "      <th>count</th>\n",
       "      <td>3531.000000</td>\n",
       "      <td>3531.000000</td>\n",
       "      <td>3531.000000</td>\n",
       "    </tr>\n",
       "    <tr>\n",
       "      <th>mean</th>\n",
       "      <td>994.939394</td>\n",
       "      <td>230.516001</td>\n",
       "      <td>8.804871</td>\n",
       "    </tr>\n",
       "    <tr>\n",
       "      <th>std</th>\n",
       "      <td>1402.785831</td>\n",
       "      <td>337.018933</td>\n",
       "      <td>22.303918</td>\n",
       "    </tr>\n",
       "    <tr>\n",
       "      <th>min</th>\n",
       "      <td>18.000000</td>\n",
       "      <td>3.000000</td>\n",
       "      <td>1.000000</td>\n",
       "    </tr>\n",
       "    <tr>\n",
       "      <th>25%</th>\n",
       "      <td>241.000000</td>\n",
       "      <td>53.000000</td>\n",
       "      <td>3.000000</td>\n",
       "    </tr>\n",
       "    <tr>\n",
       "      <th>50%</th>\n",
       "      <td>538.000000</td>\n",
       "      <td>128.000000</td>\n",
       "      <td>5.000000</td>\n",
       "    </tr>\n",
       "    <tr>\n",
       "      <th>75%</th>\n",
       "      <td>1253.500000</td>\n",
       "      <td>298.500000</td>\n",
       "      <td>10.000000</td>\n",
       "    </tr>\n",
       "    <tr>\n",
       "      <th>max</th>\n",
       "      <td>32258.000000</td>\n",
       "      <td>8863.000000</td>\n",
       "      <td>1163.000000</td>\n",
       "    </tr>\n",
       "  </tbody>\n",
       "</table>\n",
       "</div>"
      ],
      "text/plain": [
       "       num_characters   word_count   sent_count\n",
       "count     3531.000000  3531.000000  3531.000000\n",
       "mean       994.939394   230.516001     8.804871\n",
       "std       1402.785831   337.018933    22.303918\n",
       "min         18.000000     3.000000     1.000000\n",
       "25%        241.000000    53.000000     3.000000\n",
       "50%        538.000000   128.000000     5.000000\n",
       "75%       1253.500000   298.500000    10.000000\n",
       "max      32258.000000  8863.000000  1163.000000"
      ]
     },
     "execution_count": 33,
     "metadata": {},
     "output_type": "execute_result"
    }
   ],
   "source": [
    "#Describe ham and spam messages\n",
    "# Ham Message\n",
    "spam_data[spam_data['target']== 0][['num_characters','word_count', 'sent_count']].describe()"
   ]
  },
  {
   "cell_type": "code",
   "execution_count": 34,
   "id": "7e2dd7b3",
   "metadata": {},
   "outputs": [
    {
     "data": {
      "text/html": [
       "<div>\n",
       "<style scoped>\n",
       "    .dataframe tbody tr th:only-of-type {\n",
       "        vertical-align: middle;\n",
       "    }\n",
       "\n",
       "    .dataframe tbody tr th {\n",
       "        vertical-align: top;\n",
       "    }\n",
       "\n",
       "    .dataframe thead th {\n",
       "        text-align: right;\n",
       "    }\n",
       "</style>\n",
       "<table border=\"1\" class=\"dataframe\">\n",
       "  <thead>\n",
       "    <tr style=\"text-align: right;\">\n",
       "      <th></th>\n",
       "      <th>num_characters</th>\n",
       "      <th>word_count</th>\n",
       "      <th>sent_count</th>\n",
       "    </tr>\n",
       "  </thead>\n",
       "  <tbody>\n",
       "    <tr>\n",
       "      <th>count</th>\n",
       "      <td>1462.000000</td>\n",
       "      <td>1462.000000</td>\n",
       "      <td>1462.000000</td>\n",
       "    </tr>\n",
       "    <tr>\n",
       "      <th>mean</th>\n",
       "      <td>1249.326265</td>\n",
       "      <td>241.315321</td>\n",
       "      <td>13.579343</td>\n",
       "    </tr>\n",
       "    <tr>\n",
       "      <th>std</th>\n",
       "      <td>1840.112883</td>\n",
       "      <td>349.439381</td>\n",
       "      <td>20.883535</td>\n",
       "    </tr>\n",
       "    <tr>\n",
       "      <th>min</th>\n",
       "      <td>11.000000</td>\n",
       "      <td>2.000000</td>\n",
       "      <td>1.000000</td>\n",
       "    </tr>\n",
       "    <tr>\n",
       "      <th>25%</th>\n",
       "      <td>304.250000</td>\n",
       "      <td>60.000000</td>\n",
       "      <td>3.000000</td>\n",
       "    </tr>\n",
       "    <tr>\n",
       "      <th>50%</th>\n",
       "      <td>589.000000</td>\n",
       "      <td>119.500000</td>\n",
       "      <td>8.000000</td>\n",
       "    </tr>\n",
       "    <tr>\n",
       "      <th>75%</th>\n",
       "      <td>1305.000000</td>\n",
       "      <td>252.750000</td>\n",
       "      <td>15.000000</td>\n",
       "    </tr>\n",
       "    <tr>\n",
       "      <th>max</th>\n",
       "      <td>22073.000000</td>\n",
       "      <td>3963.000000</td>\n",
       "      <td>331.000000</td>\n",
       "    </tr>\n",
       "  </tbody>\n",
       "</table>\n",
       "</div>"
      ],
      "text/plain": [
       "       num_characters   word_count   sent_count\n",
       "count     1462.000000  1462.000000  1462.000000\n",
       "mean      1249.326265   241.315321    13.579343\n",
       "std       1840.112883   349.439381    20.883535\n",
       "min         11.000000     2.000000     1.000000\n",
       "25%        304.250000    60.000000     3.000000\n",
       "50%        589.000000   119.500000     8.000000\n",
       "75%       1305.000000   252.750000    15.000000\n",
       "max      22073.000000  3963.000000   331.000000"
      ]
     },
     "execution_count": 34,
     "metadata": {},
     "output_type": "execute_result"
    }
   ],
   "source": [
    "# Describe for spam messages\n",
    "spam_data[spam_data['target']==1][['num_characters','word_count', 'sent_count']].describe()"
   ]
  },
  {
   "cell_type": "code",
   "execution_count": 35,
   "id": "faaa5e29",
   "metadata": {},
   "outputs": [
    {
     "name": "stdout",
     "output_type": "stream",
     "text": [
      "Requirement already satisfied: seaborn in c:\\users\\pneuma\\desktop\\spam_mail\\env\\lib\\site-packages (0.11.2)\n",
      "Requirement already satisfied: scipy>=1.0 in c:\\users\\pneuma\\desktop\\spam_mail\\env\\lib\\site-packages (from seaborn) (1.7.3)\n",
      "Requirement already satisfied: matplotlib>=2.2 in c:\\users\\pneuma\\desktop\\spam_mail\\env\\lib\\site-packages (from seaborn) (3.5.0)\n",
      "Requirement already satisfied: numpy>=1.15 in c:\\users\\pneuma\\desktop\\spam_mail\\env\\lib\\site-packages (from seaborn) (1.21.2)\n",
      "Requirement already satisfied: pandas>=0.23 in c:\\users\\pneuma\\desktop\\spam_mail\\env\\lib\\site-packages (from seaborn) (1.3.5)\n",
      "Requirement already satisfied: fonttools>=4.22.0 in c:\\users\\pneuma\\desktop\\spam_mail\\env\\lib\\site-packages (from matplotlib>=2.2->seaborn) (4.25.0)\n",
      "Requirement already satisfied: pyparsing>=2.2.1 in c:\\users\\pneuma\\desktop\\spam_mail\\env\\lib\\site-packages (from matplotlib>=2.2->seaborn) (3.0.4)\n",
      "Requirement already satisfied: packaging>=20.0 in c:\\users\\pneuma\\desktop\\spam_mail\\env\\lib\\site-packages (from matplotlib>=2.2->seaborn) (21.3)\n",
      "Requirement already satisfied: kiwisolver>=1.0.1 in c:\\users\\pneuma\\desktop\\spam_mail\\env\\lib\\site-packages (from matplotlib>=2.2->seaborn) (1.3.1)\n",
      "Requirement already satisfied: python-dateutil>=2.7 in c:\\users\\pneuma\\desktop\\spam_mail\\env\\lib\\site-packages (from matplotlib>=2.2->seaborn) (2.8.2)\n",
      "Requirement already satisfied: cycler>=0.10 in c:\\users\\pneuma\\desktop\\spam_mail\\env\\lib\\site-packages (from matplotlib>=2.2->seaborn) (0.11.0)\n",
      "Requirement already satisfied: pillow>=6.2.0 in c:\\users\\pneuma\\desktop\\spam_mail\\env\\lib\\site-packages (from matplotlib>=2.2->seaborn) (8.4.0)\n",
      "Requirement already satisfied: pytz>=2017.3 in c:\\users\\pneuma\\desktop\\spam_mail\\env\\lib\\site-packages (from pandas>=0.23->seaborn) (2021.3)\n",
      "Requirement already satisfied: six>=1.5 in c:\\users\\pneuma\\desktop\\spam_mail\\env\\lib\\site-packages (from python-dateutil>=2.7->matplotlib>=2.2->seaborn) (1.16.0)\n"
     ]
    }
   ],
   "source": [
    "# Plot the data in histogram\n",
    "!pip install seaborn\n"
   ]
  },
  {
   "cell_type": "code",
   "execution_count": 36,
   "id": "cacf3cbe",
   "metadata": {},
   "outputs": [],
   "source": [
    "import seaborn as sns\n"
   ]
  },
  {
   "cell_type": "code",
   "execution_count": 37,
   "id": "909c88da",
   "metadata": {},
   "outputs": [
    {
     "data": {
      "text/plain": [
       "<AxesSubplot:xlabel='num_characters', ylabel='Count'>"
      ]
     },
     "execution_count": 37,
     "metadata": {},
     "output_type": "execute_result"
    },
    {
     "data": {
      "image/png": "[encoded data removed]",
      "text/plain": [
       "<Figure size 1080x576 with 1 Axes>"
      ]
     },
     "metadata": {
      "needs_background": "light"
     },
     "output_type": "display_data"
    }
   ],
   "source": [
    "#Based on characters\n",
    "plt.figure(figsize = (15,8))\n",
    "sns.histplot(spam_data[spam_data['target']==0]['num_characters'])\n",
    "sns.histplot(spam_data[spam_data['target']==1]['num_characters'], color = 'red')"
   ]
  },
  {
   "cell_type": "code",
   "execution_count": 38,
   "id": "511c11b7",
   "metadata": {},
   "outputs": [
    {
     "data": {
      "text/plain": [
       "<AxesSubplot:xlabel='sent_count', ylabel='Count'>"
      ]
     },
     "execution_count": 38,
     "metadata": {},
     "output_type": "execute_result"
    },
    {
     "data": {
      "image/png": "[encoded data removed]",
      "text/plain": [
       "<Figure size 1080x576 with 1 Axes>"
      ]
     },
     "metadata": {
      "needs_background": "light"
     },
     "output_type": "display_data"
    }
   ],
   "source": [
    "# Based on word count\n",
    "plt.figure(figsize = (15,8))\n",
    "sns.histplot(spam_data[spam_data['target']==0]['sent_count'])\n",
    "sns.histplot(spam_data[spam_data['target']==1]['sent_count'], color = 'red')"
   ]
  },
  {
   "cell_type": "code",
   "execution_count": 39,
   "id": "2e8deb6e",
   "metadata": {},
   "outputs": [
    {
     "data": {
      "text/plain": [
       "<seaborn.axisgrid.PairGrid at 0x2a588695f40>"
      ]
     },
     "execution_count": 39,
     "metadata": {},
     "output_type": "execute_result"
    },
    {
     "data": {
      "image/png": "[encoded data removed]",
      "text/plain": [
       "<Figure size 582.375x540 with 12 Axes>"
      ]
     },
     "metadata": {
      "needs_background": "light"
     },
     "output_type": "display_data"
    }
   ],
   "source": [
    "# Pairplot\n",
    "sns.pairplot(spam_data, hue = 'target')"
   ]
  },
  {
   "cell_type": "code",
   "execution_count": 40,
   "id": "1d025170",
   "metadata": {},
   "outputs": [
    {
     "data": {
      "text/plain": [
       "<AxesSubplot:>"
      ]
     },
     "execution_count": 40,
     "metadata": {},
     "output_type": "execute_result"
    },
    {
     "data": {
      "image/png": "[encoded data removed]",
      "text/plain": [
       "<Figure size 432x288 with 2 Axes>"
      ]
     },
     "metadata": {
      "needs_background": "light"
     },
     "output_type": "display_data"
    }
   ],
   "source": [
    "# Check correlation\n",
    "sns.heatmap(spam_data.corr(), annot= True)"
   ]
  },
  {
   "cell_type": "markdown",
   "id": "9c71f71e",
   "metadata": {},
   "source": [
    "## 3. Data Pre-processing\n",
    "    1. Tokenization\n",
    "    2. Lower case\n",
    "    3. Removing special Characters, Stop words and punctuation\n",
    "    4. Stemming (lemma)"
   ]
  },
  {
   "cell_type": "code",
   "execution_count": 41,
   "id": "e01fc3ac",
   "metadata": {},
   "outputs": [
    {
     "name": "stderr",
     "output_type": "stream",
     "text": [
      "[nltk_data] Downloading package stopwords to\n",
      "[nltk_data]     C:\\Users\\Pneuma\\AppData\\Roaming\\nltk_data...\n",
      "[nltk_data]   Package stopwords is already up-to-date!\n"
     ]
    },
    {
     "data": {
      "text/plain": [
       "'!\"#$%&\\'()*+,-./:;<=>?@[\\\\]^_`{|}~'"
      ]
     },
     "execution_count": 41,
     "metadata": {},
     "output_type": "execute_result"
    }
   ],
   "source": [
    "# 4. Stemming \n",
    "from nltk.stem.porter import PorterStemmer\n",
    "ps = PorterStemmer()\n",
    "ps.stem('Hello Loving')\n",
    "\n",
    "# What are Stopwords?\n",
    "\n",
    "nltk.download('stopwords')\n",
    "from nltk.corpus import stopwords\n",
    "stopwords.words('english')\n",
    "\n",
    "#Strings\n",
    "import string\n",
    "string.punctuation"
   ]
  },
  {
   "cell_type": "code",
   "execution_count": 42,
   "id": "982e3ecc",
   "metadata": {},
   "outputs": [],
   "source": [
    "# Create a fuction to lower the text\n",
    "def transform_message(message):\n",
    "    message = message.lower()\n",
    "    message = nltk.word_tokenize(message)\n",
    "    \n",
    "    \n",
    "    #Remove the alpha NUmeric values from messages\n",
    "    y = []\n",
    "    for i in message:\n",
    "        if i.isalnum():\n",
    "            y.append(i)\n",
    "    \n",
    "\n",
    "    # Remove the stopwords and punctuations\n",
    "    message = y[:]  #Cloning the y list\n",
    "    y.clear()\n",
    "    for i in message:\n",
    "        if i not in stopwords.words('english') and i not in string.punctuation: # Removes the punctuations \n",
    "                                                                                #and stopwords from text\n",
    "            y.append(i)\n",
    "    \n",
    "    # Stemming \n",
    "    \n",
    "    message = y[:]\n",
    "    y.clear()\n",
    "    for i in message:\n",
    "        y.append(ps.stem(i))\n",
    "        \n",
    "        \n",
    "    return \" \" .join(y)"
   ]
  },
  {
   "cell_type": "code",
   "execution_count": 43,
   "id": "f6ede38f",
   "metadata": {},
   "outputs": [
    {
     "data": {
      "text/plain": [
       "0       subject enron methanol meter 988291 follow not...\n",
       "1       subject hpl nom januari 9 2001 see attach file...\n",
       "2       subject neon retreat ho ho ho around wonder ti...\n",
       "3       subject photoshop window offic cheap main tren...\n",
       "4       subject indian spring deal book teco pvr reven...\n",
       "                              ...                        \n",
       "5165    subject fw crosstex energi driscol ranch 1 3 m...\n",
       "5166    subject put 10 ft transport volum decreas 2500...\n",
       "5167    subject 3 4 2000 follow nom hpl take extra 15 ...\n",
       "5169    subject industri worksheet august 2000 activ a...\n",
       "5170    subject import onlin bank alert dear valu citi...\n",
       "Name: message, Length: 4993, dtype: object"
      ]
     },
     "execution_count": 43,
     "metadata": {},
     "output_type": "execute_result"
    }
   ],
   "source": [
    "spam_data['message'].apply(transform_message) "
   ]
  },
  {
   "cell_type": "code",
   "execution_count": 44,
   "id": "857d90c4",
   "metadata": {},
   "outputs": [
    {
     "name": "stderr",
     "output_type": "stream",
     "text": [
      "C:\\Users\\Pneuma\\AppData\\Local\\Temp/ipykernel_748/3783895519.py:1: SettingWithCopyWarning: \n",
      "A value is trying to be set on a copy of a slice from a DataFrame.\n",
      "Try using .loc[row_indexer,col_indexer] = value instead\n",
      "\n",
      "See the caveats in the documentation: https://pandas.pydata.org/pandas-docs/stable/user_guide/indexing.html#returning-a-view-versus-a-copy\n",
      "  spam_data['transformed_data'] = spam_data['message'].apply(transform_message)\n"
     ]
    }
   ],
   "source": [
    "spam_data['transformed_data'] = spam_data['message'].apply(transform_message) "
   ]
  },
  {
   "cell_type": "code",
   "execution_count": 45,
   "id": "6a586a68",
   "metadata": {},
   "outputs": [
    {
     "data": {
      "text/html": [
       "<div>\n",
       "<style scoped>\n",
       "    .dataframe tbody tr th:only-of-type {\n",
       "        vertical-align: middle;\n",
       "    }\n",
       "\n",
       "    .dataframe tbody tr th {\n",
       "        vertical-align: top;\n",
       "    }\n",
       "\n",
       "    .dataframe thead th {\n",
       "        text-align: right;\n",
       "    }\n",
       "</style>\n",
       "<table border=\"1\" class=\"dataframe\">\n",
       "  <thead>\n",
       "    <tr style=\"text-align: right;\">\n",
       "      <th></th>\n",
       "      <th>target</th>\n",
       "      <th>message</th>\n",
       "      <th>num_characters</th>\n",
       "      <th>word_count</th>\n",
       "      <th>sent_count</th>\n",
       "      <th>transformed_data</th>\n",
       "    </tr>\n",
       "  </thead>\n",
       "  <tbody>\n",
       "    <tr>\n",
       "      <th>0</th>\n",
       "      <td>0</td>\n",
       "      <td>Subject: enron methanol ; meter # : 988291\\r\\n...</td>\n",
       "      <td>327</td>\n",
       "      <td>68</td>\n",
       "      <td>3</td>\n",
       "      <td>subject enron methanol meter 988291 follow not...</td>\n",
       "    </tr>\n",
       "    <tr>\n",
       "      <th>1</th>\n",
       "      <td>0</td>\n",
       "      <td>Subject: hpl nom for january 9 , 2001\\r\\n( see...</td>\n",
       "      <td>97</td>\n",
       "      <td>24</td>\n",
       "      <td>1</td>\n",
       "      <td>subject hpl nom januari 9 2001 see attach file...</td>\n",
       "    </tr>\n",
       "    <tr>\n",
       "      <th>2</th>\n",
       "      <td>0</td>\n",
       "      <td>Subject: neon retreat\\r\\nho ho ho , we ' re ar...</td>\n",
       "      <td>2524</td>\n",
       "      <td>551</td>\n",
       "      <td>20</td>\n",
       "      <td>subject neon retreat ho ho ho around wonder ti...</td>\n",
       "    </tr>\n",
       "    <tr>\n",
       "      <th>3</th>\n",
       "      <td>1</td>\n",
       "      <td>Subject: photoshop , windows , office . cheap ...</td>\n",
       "      <td>414</td>\n",
       "      <td>49</td>\n",
       "      <td>3</td>\n",
       "      <td>subject photoshop window offic cheap main tren...</td>\n",
       "    </tr>\n",
       "    <tr>\n",
       "      <th>4</th>\n",
       "      <td>0</td>\n",
       "      <td>Subject: re : indian springs\\r\\nthis deal is t...</td>\n",
       "      <td>336</td>\n",
       "      <td>71</td>\n",
       "      <td>3</td>\n",
       "      <td>subject indian spring deal book teco pvr reven...</td>\n",
       "    </tr>\n",
       "    <tr>\n",
       "      <th>...</th>\n",
       "      <td>...</td>\n",
       "      <td>...</td>\n",
       "      <td>...</td>\n",
       "      <td>...</td>\n",
       "      <td>...</td>\n",
       "      <td>...</td>\n",
       "    </tr>\n",
       "    <tr>\n",
       "      <th>5165</th>\n",
       "      <td>0</td>\n",
       "      <td>Subject: fw : crosstex energy , driscoll ranch...</td>\n",
       "      <td>869</td>\n",
       "      <td>197</td>\n",
       "      <td>7</td>\n",
       "      <td>subject fw crosstex energi driscol ranch 1 3 m...</td>\n",
       "    </tr>\n",
       "    <tr>\n",
       "      <th>5166</th>\n",
       "      <td>0</td>\n",
       "      <td>Subject: put the 10 on the ft\\r\\nthe transport...</td>\n",
       "      <td>534</td>\n",
       "      <td>156</td>\n",
       "      <td>3</td>\n",
       "      <td>subject put 10 ft transport volum decreas 2500...</td>\n",
       "    </tr>\n",
       "    <tr>\n",
       "      <th>5167</th>\n",
       "      <td>0</td>\n",
       "      <td>Subject: 3 / 4 / 2000 and following noms\\r\\nhp...</td>\n",
       "      <td>1114</td>\n",
       "      <td>306</td>\n",
       "      <td>8</td>\n",
       "      <td>subject 3 4 2000 follow nom hpl take extra 15 ...</td>\n",
       "    </tr>\n",
       "    <tr>\n",
       "      <th>5169</th>\n",
       "      <td>0</td>\n",
       "      <td>Subject: industrial worksheets for august 2000...</td>\n",
       "      <td>573</td>\n",
       "      <td>112</td>\n",
       "      <td>7</td>\n",
       "      <td>subject industri worksheet august 2000 activ a...</td>\n",
       "    </tr>\n",
       "    <tr>\n",
       "      <th>5170</th>\n",
       "      <td>1</td>\n",
       "      <td>Subject: important online banking alert\\r\\ndea...</td>\n",
       "      <td>1114</td>\n",
       "      <td>200</td>\n",
       "      <td>8</td>\n",
       "      <td>subject import onlin bank alert dear valu citi...</td>\n",
       "    </tr>\n",
       "  </tbody>\n",
       "</table>\n",
       "<p>4993 rows × 6 columns</p>\n",
       "</div>"
      ],
      "text/plain": [
       "      target                                            message  \\\n",
       "0          0  Subject: enron methanol ; meter # : 988291\\r\\n...   \n",
       "1          0  Subject: hpl nom for january 9 , 2001\\r\\n( see...   \n",
       "2          0  Subject: neon retreat\\r\\nho ho ho , we ' re ar...   \n",
       "3          1  Subject: photoshop , windows , office . cheap ...   \n",
       "4          0  Subject: re : indian springs\\r\\nthis deal is t...   \n",
       "...      ...                                                ...   \n",
       "5165       0  Subject: fw : crosstex energy , driscoll ranch...   \n",
       "5166       0  Subject: put the 10 on the ft\\r\\nthe transport...   \n",
       "5167       0  Subject: 3 / 4 / 2000 and following noms\\r\\nhp...   \n",
       "5169       0  Subject: industrial worksheets for august 2000...   \n",
       "5170       1  Subject: important online banking alert\\r\\ndea...   \n",
       "\n",
       "      num_characters  word_count  sent_count  \\\n",
       "0                327          68           3   \n",
       "1                 97          24           1   \n",
       "2               2524         551          20   \n",
       "3                414          49           3   \n",
       "4                336          71           3   \n",
       "...              ...         ...         ...   \n",
       "5165             869         197           7   \n",
       "5166             534         156           3   \n",
       "5167            1114         306           8   \n",
       "5169             573         112           7   \n",
       "5170            1114         200           8   \n",
       "\n",
       "                                       transformed_data  \n",
       "0     subject enron methanol meter 988291 follow not...  \n",
       "1     subject hpl nom januari 9 2001 see attach file...  \n",
       "2     subject neon retreat ho ho ho around wonder ti...  \n",
       "3     subject photoshop window offic cheap main tren...  \n",
       "4     subject indian spring deal book teco pvr reven...  \n",
       "...                                                 ...  \n",
       "5165  subject fw crosstex energi driscol ranch 1 3 m...  \n",
       "5166  subject put 10 ft transport volum decreas 2500...  \n",
       "5167  subject 3 4 2000 follow nom hpl take extra 15 ...  \n",
       "5169  subject industri worksheet august 2000 activ a...  \n",
       "5170  subject import onlin bank alert dear valu citi...  \n",
       "\n",
       "[4993 rows x 6 columns]"
      ]
     },
     "execution_count": 45,
     "metadata": {},
     "output_type": "execute_result"
    }
   ],
   "source": [
    "spam_data"
   ]
  },
  {
   "cell_type": "markdown",
   "id": "ad1a7cde",
   "metadata": {},
   "source": [
    "## 4. Model Building\n",
    "    1. Vectorization of the Text data\n",
    "    2. Building model\n",
    "    3. Training and testing data"
   ]
  },
  {
   "cell_type": "code",
   "execution_count": 46,
   "id": "0b838029",
   "metadata": {},
   "outputs": [],
   "source": [
    "# Vectorization using Bag of words and TfidfVectorizor\n",
    "from sklearn.feature_extraction.text import CountVectorizer, TfidfVectorizer\n",
    "cv = CountVectorizer()\n",
    "tf = TfidfVectorizer()"
   ]
  },
  {
   "cell_type": "code",
   "execution_count": 47,
   "id": "002b9256",
   "metadata": {},
   "outputs": [],
   "source": [
    "X = tf.fit_transform(spam_data['transformed_data']).toarray()"
   ]
  },
  {
   "cell_type": "code",
   "execution_count": 48,
   "id": "74fcdcf1",
   "metadata": {},
   "outputs": [
    {
     "data": {
      "text/plain": [
       "(4993, 42592)"
      ]
     },
     "execution_count": 48,
     "metadata": {},
     "output_type": "execute_result"
    }
   ],
   "source": [
    "X.shape"
   ]
  },
  {
   "cell_type": "code",
   "execution_count": 49,
   "id": "1435c7ec",
   "metadata": {},
   "outputs": [],
   "source": [
    "y = spam_data['target'].values"
   ]
  },
  {
   "cell_type": "code",
   "execution_count": 50,
   "id": "3068bc2e",
   "metadata": {},
   "outputs": [
    {
     "data": {
      "text/plain": [
       "array([0, 0, 0, ..., 0, 0, 1])"
      ]
     },
     "execution_count": 50,
     "metadata": {},
     "output_type": "execute_result"
    }
   ],
   "source": [
    "y"
   ]
  },
  {
   "cell_type": "code",
   "execution_count": 51,
   "id": "5e4bbf30",
   "metadata": {},
   "outputs": [],
   "source": [
    "#Split the data into test and train data\n",
    "from sklearn.model_selection import train_test_split\n",
    "X_train, X_test, y_train, y_test = train_test_split(X, y,\n",
    "                                                   test_size = 0.2, random_state = 2)"
   ]
  },
  {
   "cell_type": "code",
   "execution_count": 52,
   "id": "8eedaad4",
   "metadata": {},
   "outputs": [],
   "source": [
    "#We will try different models and train them to obtain better results\n",
    "from sklearn.naive_bayes import GaussianNB, MultinomialNB, BernoulliNB\n",
    "from sklearn.metrics import accuracy_score, confusion_matrix, precision_score"
   ]
  },
  {
   "cell_type": "code",
   "execution_count": 53,
   "id": "ecb41e28",
   "metadata": {},
   "outputs": [],
   "source": [
    "gnb = GaussianNB()\n",
    "mnb = MultinomialNB()\n",
    "bnb = BernoulliNB()"
   ]
  },
  {
   "cell_type": "code",
   "execution_count": 55,
   "id": "7c2496da",
   "metadata": {},
   "outputs": [
    {
     "name": "stdout",
     "output_type": "stream",
     "text": [
      "GaussianNB Model: \n",
      "0.9409409409409409\n",
      "[[669  28]\n",
      " [ 31 271]]\n",
      "0.9063545150501672\n"
     ]
    }
   ],
   "source": [
    "# Fit the data in the GaussianNB model\n",
    "gnb.fit(X_train, y_train)\n",
    "y_pred = gnb.predict(X_test)\n",
    "print(\"GaussianNB Model: \")\n",
    "print(accuracy_score(y_test, y_pred))\n",
    "print(confusion_matrix(y_test, y_pred))\n",
    "print(precision_score(y_test, y_pred))"
   ]
  },
  {
   "cell_type": "code",
   "execution_count": 60,
   "id": "2c963923",
   "metadata": {},
   "outputs": [
    {
     "name": "stdout",
     "output_type": "stream",
     "text": [
      "MultimonialNB Model: \n",
      "0.908908908908909\n",
      "[[696   1]\n",
      " [ 90 212]]\n",
      "0.9953051643192489\n"
     ]
    }
   ],
   "source": [
    "#Fit the data in MultinomialNB and test\n",
    "\n",
    "mnb.fit(X_train, y_train)\n",
    "y_pred1 = mnb.predict(X_test)\n",
    "print(\"MultimonialNB Model: \")\n",
    "print(accuracy_score(y_test, y_pred1))\n",
    "print(confusion_matrix(y_test, y_pred1))\n",
    "print(precision_score(y_test, y_pred1))"
   ]
  },
  {
   "cell_type": "code",
   "execution_count": 62,
   "id": "d94a0f24",
   "metadata": {},
   "outputs": [
    {
     "name": "stdout",
     "output_type": "stream",
     "text": [
      "BernoulliNB model: \n",
      "0.8468468468468469\n",
      "[[677  20]\n",
      " [133 169]]\n",
      "0.8941798941798942\n"
     ]
    }
   ],
   "source": [
    "# Fit the data in the BernoulliNB model\n",
    "bnb.fit(X_train, y_train)\n",
    "y_pred2 = bnb.predict(X_test)\n",
    "print(\"BernoulliNB model: \")\n",
    "print(accuracy_score(y_test, y_pred2))\n",
    "print(confusion_matrix(y_test, y_pred2))\n",
    "print(precision_score(y_test, y_pred2))"
   ]
  },
  {
   "cell_type": "markdown",
   "id": "e2fa1a80",
   "metadata": {},
   "source": [
    "#### Tfidf with MultinomialNB produced the best results\n",
    "#### In imbalanced data, precision matters more than accuracy"
   ]
  },
  {
   "cell_type": "code",
   "execution_count": 63,
   "id": "cc486fff",
   "metadata": {},
   "outputs": [],
   "source": [
    "#Extract the model using pickle\n",
    "import pickle\n",
    "pickle.dump(mnb, open(\"model.pkl\", 'wb'))"
   ]
  },
  {
   "cell_type": "code",
   "execution_count": 64,
   "id": "732d010a",
   "metadata": {},
   "outputs": [],
   "source": [
    "pickle.dump(tf, open(\"Vectorizer.pkl\", 'wb'))"
   ]
  }
 ],
 "metadata": {
  "kernelspec": {
   "display_name": "Python 3 (ipykernel)",
   "language": "python",
   "name": "python3"
  },
  "language_info": {
   "codemirror_mode": {
    "name": "ipython",
    "version": 3
   },
   "file_extension": ".py",
   "mimetype": "text/x-python",
   "name": "python",
   "nbconvert_exporter": "python",
   "pygments_lexer": "ipython3",
   "version": "3.9.7"
  }
 },
 "nbformat": 4,
 "nbformat_minor": 5
}
